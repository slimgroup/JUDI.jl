{
 "cells": [
  {
   "cell_type": "code",
   "execution_count": 1,
   "metadata": {},
   "outputs": [],
   "source": [
    "raw_hfile = 's_hfile.rsf'\n",
    "raw_tfile = 's_tfile.txt'\n",
    "raw_bfile = 's_bfile.txt'\n",
    "cdp_mask = \"cdp_mask.rsf\"\n",
    "header_complete_int = 'sp_header_complete_int.rsf'\n",
    "header_complete_int_cdp = 'sp_header_complete_int_cdp.rsf'\n",
    "\n",
    "dt=0.004\n",
    "nt=1000"
   ]
  },
  {
   "cell_type": "code",
   "execution_count": 2,
   "metadata": {},
   "outputs": [
    {
     "name": "stdout",
     "output_type": "stream",
     "text": [
      "sfintbin: 2142 of 2142;28 of 2142;\n"
     ]
    }
   ],
   "source": [
    "!sfintbin yk=cdp xk=cdpt head=sp_header_complete_int.rsf < s.rsf > tmp1.rsf"
   ]
  },
  {
   "cell_type": "code",
   "execution_count": 3,
   "metadata": {},
   "outputs": [
    {
     "name": "stdout",
     "output_type": "stream",
     "text": [
      "sfintbin: 2143 of 2143;\n"
     ]
    }
   ],
   "source": [
    "!sfintbin yk=cdp xk=cdpt head=sp_header_complete_int_cdp.rsf < tmp1.rsf > tmp2.rsf"
   ]
  },
  {
   "attachments": {},
   "cell_type": "markdown",
   "metadata": {},
   "source": [
    "Export PRESTACK with fixed geometry"
   ]
  },
  {
   "cell_type": "code",
   "execution_count": 4,
   "metadata": {},
   "outputs": [
    {
     "name": "stdout",
     "output_type": "stream",
     "text": [
      "sfsegywrite: ASCII header read from \"s_hfile.rsf\"\n",
      "sfsegywrite: Binary header read from \"s_bfile.txt\"\n",
      "sfsegywrite: Assuming IBM floating point format\n",
      "sfsegywrite: Detected trace length of 1500\n",
      "sfsegywrite: Expect 120120 traces\n"
     ]
    }
   ],
   "source": [
    "raw = 's.rsf'\n",
    "proc = 's.sgy'\n",
    "\n",
    "!sfwindow < {raw} n1=nt |\\\n",
    "  sfsegywrite < tape={proc} hfile={raw_hfile} tfile={raw_tfile} bfile={raw_bfile} verb=y"
   ]
  },
  {
   "cell_type": "code",
   "execution_count": 6,
   "metadata": {},
   "outputs": [
    {
     "name": "stdout",
     "output_type": "stream",
     "text": [
      "sfsegywrite: ASCII header read from \"s_hfile.rsf\"\n",
      "sfsegywrite: Binary header read from \"s_bfile.txt\"\n",
      "sfsegywrite: Assuming IBM floating point format\n",
      "sfsegywrite: Detected trace length of 1500\n",
      "sfsegywrite: Expect 120120 traces\n"
     ]
    }
   ],
   "source": [
    "raw = 's.rsf'\n",
    "proc = 's_gain.sgy'\n",
    "\n",
    "!sfwindow < {raw} n1=nt |\\\n",
    "  sfpow pow1=2 |\\\n",
    "  sfsegywrite tape={proc} hfile={raw_hfile} tfile={raw_tfile} bfile={raw_bfile} verb=y"
   ]
  },
  {
   "cell_type": "markdown",
   "metadata": {},
   "source": [
    "Export PRESTACK deghosted"
   ]
  },
  {
   "cell_type": "code",
   "execution_count": 53,
   "metadata": {},
   "outputs": [
    {
     "name": "stdout",
     "output_type": "stream",
     "text": [
      "sfsegywrite: ASCII header read from \"s_hfile.rsf\"\n",
      "sfsegywrite: Binary header read from \"s_bfile.txt\"\n",
      "sfsegywrite: Assuming IBM floating point format\n",
      "sfsegywrite: Detected trace length of 1500\n",
      "sfsegywrite: Expect 120120 traces\n"
     ]
    }
   ],
   "source": [
    "raw = 's_deghost.rsf'\n",
    "proc = 's_deghost.sgy'\n",
    "\n",
    "!sfwindow < {raw} n1=nt |\\\n",
    "  sfsegywrite tape={proc} hfile={raw_hfile} tfile={raw_tfile} bfile={raw_bfile} verb=y"
   ]
  },
  {
   "cell_type": "markdown",
   "metadata": {},
   "source": [
    "Export PRESTACK preprocessed"
   ]
  },
  {
   "cell_type": "code",
   "execution_count": 51,
   "metadata": {},
   "outputs": [
    {
     "name": "stdout",
     "output_type": "stream",
     "text": [
      "sfintbin: 1113 of 1113;\n",
      "sfintbin: 1113 of 1113;\n",
      "sfsegywrite: ASCII header read from \"s_hfile.rsf\"\n",
      "sfsegywrite: Binary header read from \"s_bfile.txt\"\n",
      "sfsegywrite: Assuming IBM floating point format\n",
      "sfsegywrite: Detected trace length of 1500\n",
      "sfsegywrite: Expect 120120 traces\n"
     ]
    }
   ],
   "source": [
    "raw = 's_deghost_gain_mute_dip_radon_cdp.rsf'\n",
    "proc = 's_deghost_gain_mute_dip_radon.sgy'\n",
    "mask = 'mask.rsf'\n",
    "\n",
    "!sfintbin < {cdp_mask} yk=ep xk=tracf head={header_complete_int_cdp} > {mask}\n",
    "!sfwindow < {raw} n1=nt |\\\n",
    "  sfintbin yk=ep xk=tracf head={header_complete_int_cdp} |\\\n",
    "  sfheaderwindow mask={mask} |\\\n",
    "  sfput d1={dt} |\\\n",
    "  sfsegywrite tape={proc} hfile={raw_hfile} tfile={raw_tfile} bfile={raw_bfile} verb=y"
   ]
  },
  {
   "cell_type": "markdown",
   "metadata": {},
   "source": [
    "Export STACK"
   ]
  },
  {
   "cell_type": "code",
   "execution_count": 48,
   "metadata": {},
   "outputs": [
    {
     "name": "stdout",
     "output_type": "stream",
     "text": [
      "sfintbin: 2142 of 2142;\n",
      "sfsegywrite: ASCII header created on the fly\n",
      "sfsegywrite: Binary header created on the fly\n",
      "sfsegywrite: Assuming IBM floating point format\n",
      "sfsegywrite: Detected trace length of 1500\n",
      "sfsegywrite: Expect 2142 traces\n"
     ]
    }
   ],
   "source": [
    "raw_stack = 's_deghost_gain_mute_dip_radon_cdp_stk.rsf'\n",
    "proc_stack = 's_deghost_gain_mute_dip_radon_cdp_stk.sgy'\n",
    "raw_tfile_stk = 's_tfile_stk.txt'\n",
    "\n",
    "!sfintbin < {raw_tfile} yk=cdp xk=cdpt head={header_complete_int} |\\\n",
    "  sfwindow n2=1 > {raw_tfile_stk}\n",
    "!sfwindow < {raw_stack} n1=nt |\\\n",
    "  sfput d1={dt} |\\\n",
    "  sfsegywrite tape={proc_stack} tfile={raw_tfile_stk} verb=y"
   ]
  }
 ],
 "metadata": {
  "kernelspec": {
   "display_name": "venv",
   "language": "python",
   "name": "venv"
  },
  "language_info": {
   "codemirror_mode": {
    "name": "ipython",
    "version": 3
   },
   "file_extension": ".py",
   "mimetype": "text/x-python",
   "name": "python",
   "nbconvert_exporter": "python",
   "pygments_lexer": "ipython3",
   "version": "3.9.1"
  },
  "orig_nbformat": 4,
  "vscode": {
   "interpreter": {
    "hash": "0a1788e0e5c6efbebf11ed51f31697603628a5a9fa69865db71407f438af2faf"
   }
  }
 },
 "nbformat": 4,
 "nbformat_minor": 2
}
